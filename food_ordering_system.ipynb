{
  "nbformat": 4,
  "nbformat_minor": 0,
  "metadata": {
    "colab": {
      "name": "food ordering system.ipynb",
      "provenance": [],
      "authorship_tag": "ABX9TyOTWUlp9yJCPD+pfKaYpA7k",
      "include_colab_link": true
    },
    "kernelspec": {
      "name": "python3",
      "display_name": "Python 3"
    }
  },
  "cells": [
    {
      "cell_type": "markdown",
      "metadata": {
        "id": "view-in-github",
        "colab_type": "text"
      },
      "source": [
        "<a href=\"https://colab.research.google.com/github/Code-tanisha/Data-Structures/blob/main/food_ordering_system.ipynb\" target=\"_parent\"><img src=\"https://colab.research.google.com/assets/colab-badge.svg\" alt=\"Open In Colab\"/></a>"
      ]
    },
    {
      "cell_type": "markdown",
      "metadata": {
        "id": "gle6IhovfN8-"
      },
      "source": [
        "For all exercises use Queue class implemented in main tutorial.\r\n",
        "\r\n",
        "Design a food ordering system where your python program will run two threads,\r\n",
        "\r\n",
        "Place Order: This thread will be placing an order and inserting that into a queue. This thread places new order every 0.5 second. (hint: use time.sleep(0.5) function)\r\n",
        "Serve Order: This thread will server the order. All you need to do is pop the order out of the queue and print it. This thread serves an order every 2 seconds. Also start this thread 1 second after place order thread is started.\r\n",
        "Use this video to get yourself familiar with multithreading in python\r\n",
        "\r\n",
        "Pass following list as an argument to place order thread,\r\n",
        "\r\n",
        "orders = ['pizza','samosa','pasta','biryani','burger']\r\n",
        "This problem is a producer,consumer problem where place_order thread is producing orders whereas server_order thread is consuming the food orders. Use Queue class implemented in a video tutorial."
      ]
    },
    {
      "cell_type": "code",
      "metadata": {
        "colab": {
          "base_uri": "https://localhost:8080/"
        },
        "id": "A_RmVRwtfQHC",
        "outputId": "699cb0ca-112a-41e9-c152-577c08d61085"
      },
      "source": [
        "import threading\r\n",
        "import time\r\n",
        "\r\n",
        "from collections import deque\r\n",
        "\r\n",
        "class Queue:\r\n",
        "    def __init__(self):\r\n",
        "        self.buffer = deque()\r\n",
        "\r\n",
        "    def enqueue(self, val):\r\n",
        "        self.buffer.appendleft(val)\r\n",
        "\r\n",
        "    def dequeue(self):\r\n",
        "        if len(self.buffer)==0:\r\n",
        "            print(\"Queue is empty\")\r\n",
        "            return\r\n",
        "\r\n",
        "        return self.buffer.pop()\r\n",
        "\r\n",
        "    def is_empty(self):\r\n",
        "        return len(self.buffer) == 0\r\n",
        "\r\n",
        "    def size(self):\r\n",
        "        return len(self.buffer)\r\n",
        "\r\n",
        "food_order_queue = Queue()\r\n",
        "\r\n",
        "def place_orders(orders):\r\n",
        "    for order in orders:\r\n",
        "        print(\"Placing order for:\",order)\r\n",
        "        food_order_queue.enqueue(order)\r\n",
        "        time.sleep(0.5)\r\n",
        "\r\n",
        "\r\n",
        "def serve_orders():\r\n",
        "    time.sleep(1)\r\n",
        "    while True:\r\n",
        "        order = food_order_queue.dequeue()\r\n",
        "        print(\"Now serving: \",order)\r\n",
        "        time.sleep(2)\r\n",
        "\r\n",
        "if __name__ == '__main__':\r\n",
        "    orders = ['pizza','samosa','pasta','biryani','burger']\r\n",
        "    t1 = threading.Thread(target=place_orders, args=(orders,))\r\n",
        "    t2 = threading.Thread(target=serve_orders)\r\n",
        "\r\n",
        "    t1.start()\r\n",
        "    t2.start()"
      ],
      "execution_count": 16,
      "outputs": [
        {
          "output_type": "stream",
          "text": [
            "Queue is empty\n",
            "Now serving:  None\n",
            "Queue is empty\n",
            "Now serving:  None\n",
            "Queue is empty\n",
            "Now serving:  None\n",
            "Placing order for: pizza\n"
          ],
          "name": "stdout"
        }
      ]
    }
  ]
}