{
  "nbformat": 4,
  "nbformat_minor": 0,
  "metadata": {
    "colab": {
      "name": "Stacks Implementation.ipynb",
      "provenance": [],
      "authorship_tag": "ABX9TyOgC5lDPvWacToLd9hkXXB+",
      "include_colab_link": true
    },
    "kernelspec": {
      "name": "python3",
      "display_name": "Python 3"
    }
  },
  "cells": [
    {
      "cell_type": "markdown",
      "metadata": {
        "id": "view-in-github",
        "colab_type": "text"
      },
      "source": [
        "<a href=\"https://colab.research.google.com/github/Code-tanisha/Data-Structures/blob/main/Stacks_Implementation.ipynb\" target=\"_parent\"><img src=\"https://colab.research.google.com/assets/colab-badge.svg\" alt=\"Open In Colab\"/></a>"
      ]
    },
    {
      "cell_type": "markdown",
      "metadata": {
        "id": "mzD7LCnjJB24"
      },
      "source": [
        "Hou websides func?\r\n",
        "we open multiple websites in browser and in we do this using python.\r\n",
        "We go back to the last visited websites.\r\n",
        "**Implementation of stack using list**"
      ]
    },
    {
      "cell_type": "code",
      "metadata": {
        "id": "C051BG-kJX1x"
      },
      "source": [
        "\"\"\"\r\n",
        "s = []\r\n",
        "s.append('https://medium.com/analytics-vidhya/introduction-to-data-structures-in-python-a235d5c5b3a4')\r\n",
        "s.append('https://medium.com/analytics-vidhya/deep-learning/home')\r\n",
        "s.append('https://medium.com/analytics-vidhya/tagged/hackathons')\r\n",
        "s.append('https://medium.com/analytics-vidhya/machine-learning/home')\r\n",
        "\"\"\"\r\n"
      ],
      "execution_count": 11,
      "outputs": []
    },
    {
      "cell_type": "code",
      "metadata": {
        "colab": {
          "base_uri": "https://localhost:8080/",
          "height": 35
        },
        "id": "9MBFMFqpJ2Sm",
        "outputId": "6171880e-408a-4c43-9ae5-b26861473cf3"
      },
      "source": [
        "\"\"\"\r\n",
        "# This POP methon in stack pops out the last appendend element in the stack as stack works in Last in First out.\r\n",
        "s.pop()\r\n",
        "\"\"\""
      ],
      "execution_count": 12,
      "outputs": [
        {
          "output_type": "execute_result",
          "data": {
            "application/vnd.google.colaboratory.intrinsic+json": {
              "type": "string"
            },
            "text/plain": [
              "'https://medium.com/analytics-vidhya/machine-learning/home'"
            ]
          },
          "metadata": {
            "tags": []
          },
          "execution_count": 12
        }
      ]
    },
    {
      "cell_type": "code",
      "metadata": {
        "colab": {
          "base_uri": "https://localhost:8080/"
        },
        "id": "UNg3joyMKMQ8",
        "outputId": "a298fca0-a90b-4408-c199-2beb44899afe"
      },
      "source": [
        "\"\"\"\r\n",
        "# Now the remaining websites in the stack is:-\r\n",
        "s\r\n",
        "\"\"\""
      ],
      "execution_count": 13,
      "outputs": [
        {
          "output_type": "execute_result",
          "data": {
            "text/plain": [
              "['https://medium.com/analytics-vidhya/introduction-to-data-structures-in-python-a235d5c5b3a4',\n",
              " 'https://medium.com/analytics-vidhya/deep-learning/home',\n",
              " 'https://medium.com/analytics-vidhya/tagged/hackathons']"
            ]
          },
          "metadata": {
            "tags": []
          },
          "execution_count": 13
        }
      ]
    },
    {
      "cell_type": "code",
      "metadata": {
        "colab": {
          "base_uri": "https://localhost:8080/",
          "height": 35
        },
        "id": "Ft4VcRlNK2gG",
        "outputId": "c5cf4641-8803-4fe0-b417-e20707995d0c"
      },
      "source": [
        "\"\"\"\r\n",
        "# To get the last element for the list we use negative index\r\n",
        "s[-1]\r\n",
        "\"\"\""
      ],
      "execution_count": 14,
      "outputs": [
        {
          "output_type": "execute_result",
          "data": {
            "application/vnd.google.colaboratory.intrinsic+json": {
              "type": "string"
            },
            "text/plain": [
              "'https://medium.com/analytics-vidhya/tagged/hackathons'"
            ]
          },
          "metadata": {
            "tags": []
          },
          "execution_count": 14
        }
      ]
    },
    {
      "cell_type": "markdown",
      "metadata": {
        "id": "NZvSADIAODTW"
      },
      "source": [
        "***STAACK IMPLEMENTATION USING COLLECTIONS.DEQUEUE***"
      ]
    },
    {
      "cell_type": "code",
      "metadata": {
        "id": "Y---wVSjLJba"
      },
      "source": [
        "from collections import deque\r\n",
        "stack = deque()"
      ],
      "execution_count": 29,
      "outputs": []
    },
    {
      "cell_type": "code",
      "metadata": {
        "colab": {
          "base_uri": "https://localhost:8080/"
        },
        "id": "RNtep18vO08l",
        "outputId": "30e31738-d5d3-4479-a1b9-20a359d9a6c9"
      },
      "source": [
        "# Now if we want to see what type of method it has\r\n",
        "dir(stack)"
      ],
      "execution_count": 17,
      "outputs": [
        {
          "output_type": "execute_result",
          "data": {
            "text/plain": [
              "['__add__',\n",
              " '__bool__',\n",
              " '__class__',\n",
              " '__contains__',\n",
              " '__copy__',\n",
              " '__delattr__',\n",
              " '__delitem__',\n",
              " '__dir__',\n",
              " '__doc__',\n",
              " '__eq__',\n",
              " '__format__',\n",
              " '__ge__',\n",
              " '__getattribute__',\n",
              " '__getitem__',\n",
              " '__gt__',\n",
              " '__hash__',\n",
              " '__iadd__',\n",
              " '__imul__',\n",
              " '__init__',\n",
              " '__init_subclass__',\n",
              " '__iter__',\n",
              " '__le__',\n",
              " '__len__',\n",
              " '__lt__',\n",
              " '__mul__',\n",
              " '__ne__',\n",
              " '__new__',\n",
              " '__reduce__',\n",
              " '__reduce_ex__',\n",
              " '__repr__',\n",
              " '__reversed__',\n",
              " '__rmul__',\n",
              " '__setattr__',\n",
              " '__setitem__',\n",
              " '__sizeof__',\n",
              " '__str__',\n",
              " '__subclasshook__',\n",
              " 'append',\n",
              " 'appendleft',\n",
              " 'clear',\n",
              " 'copy',\n",
              " 'count',\n",
              " 'extend',\n",
              " 'extendleft',\n",
              " 'index',\n",
              " 'insert',\n",
              " 'maxlen',\n",
              " 'pop',\n",
              " 'popleft',\n",
              " 'remove',\n",
              " 'reverse',\n",
              " 'rotate']"
            ]
          },
          "metadata": {
            "tags": []
          },
          "execution_count": 17
        }
      ]
    },
    {
      "cell_type": "code",
      "metadata": {
        "colab": {
          "base_uri": "https://localhost:8080/"
        },
        "id": "T2BL6EDPPCwA",
        "outputId": "f2bf8ffb-99a7-488f-8c91-fe523e55de34"
      },
      "source": [
        "stack.append(\"https://medium.com/analytics-vidhya/machine-learning/home\")\r\n",
        "stack"
      ],
      "execution_count": 21,
      "outputs": [
        {
          "output_type": "execute_result",
          "data": {
            "text/plain": [
              "deque(['https://medium.com/analytics-vidhya/machine-learning/home'])"
            ]
          },
          "metadata": {
            "tags": []
          },
          "execution_count": 21
        }
      ]
    },
    {
      "cell_type": "code",
      "metadata": {
        "colab": {
          "base_uri": "https://localhost:8080/"
        },
        "id": "YFchxOgXP0qw",
        "outputId": "9529aa15-ad92-4502-b8ae-6135c5fec97f"
      },
      "source": [
        "stack.append(\"https://medium.com/analytics-vidhya/deep-learning/home\")\r\n",
        "stack.append(\"https://medium.com/analytics-vidhya/tagged/hackathons\")\r\n",
        "stack.append(\"https://medium.com/analytics-vidhya/about\")\r\n",
        "stack"
      ],
      "execution_count": 22,
      "outputs": [
        {
          "output_type": "execute_result",
          "data": {
            "text/plain": [
              "deque(['https://medium.com/analytics-vidhya/machine-learning/home',\n",
              "       'https://medium.com/analytics-vidhya/deep-learning/home',\n",
              "       'https://medium.com/analytics-vidhya/tagged/hackathons',\n",
              "       'https://medium.com/analytics-vidhya/about'])"
            ]
          },
          "metadata": {
            "tags": []
          },
          "execution_count": 22
        }
      ]
    },
    {
      "cell_type": "code",
      "metadata": {
        "colab": {
          "base_uri": "https://localhost:8080/",
          "height": 35
        },
        "id": "U4yw4jiFQwjh",
        "outputId": "9b6864bc-9afb-497a-c523-28a8b4836d00"
      },
      "source": [
        "stack.pop()"
      ],
      "execution_count": 23,
      "outputs": [
        {
          "output_type": "execute_result",
          "data": {
            "application/vnd.google.colaboratory.intrinsic+json": {
              "type": "string"
            },
            "text/plain": [
              "'https://medium.com/analytics-vidhya/about'"
            ]
          },
          "metadata": {
            "tags": []
          },
          "execution_count": 23
        }
      ]
    },
    {
      "cell_type": "code",
      "metadata": {
        "colab": {
          "base_uri": "https://localhost:8080/"
        },
        "id": "2lyiE9QNQ5cx",
        "outputId": "16aefdc0-55d2-4ab3-9589-9fe4f0663dc5"
      },
      "source": [
        "stack"
      ],
      "execution_count": 24,
      "outputs": [
        {
          "output_type": "execute_result",
          "data": {
            "text/plain": [
              "deque(['https://medium.com/analytics-vidhya/machine-learning/home',\n",
              "       'https://medium.com/analytics-vidhya/deep-learning/home',\n",
              "       'https://medium.com/analytics-vidhya/tagged/hackathons'])"
            ]
          },
          "metadata": {
            "tags": []
          },
          "execution_count": 24
        }
      ]
    },
    {
      "cell_type": "code",
      "metadata": {
        "id": "hg36OEBsSM8-"
      },
      "source": [
        "class Stack:\r\n",
        "  def __init__(self):\r\n",
        "    self.container = deque()      #Internally I have a container and here it is nothing but the object of deque class\r\n",
        "  def push(self, val):\r\n",
        "    self.container.append(val)\r\n",
        "  def pop(self):\r\n",
        "    return self.container.pop()\r\n",
        "  def peek(self):\r\n",
        "    return self.container[-1] \r\n",
        "  def is_empty(self):\r\n",
        "    return len(self.container) == 0\r\n",
        "  def size(self):\r\n",
        "    return len(self.container) \r\n"
      ],
      "execution_count": 36,
      "outputs": []
    },
    {
      "cell_type": "code",
      "metadata": {
        "id": "IPIiFo42T1Su"
      },
      "source": [
        "s = Stack()\r\n",
        "s.push(5)"
      ],
      "execution_count": 37,
      "outputs": []
    },
    {
      "cell_type": "code",
      "metadata": {
        "colab": {
          "base_uri": "https://localhost:8080/"
        },
        "id": "VfaoGagIT9JU",
        "outputId": "3fef1b7f-be04-4d71-ecf3-f72b00c1123b"
      },
      "source": [
        "s.peek()"
      ],
      "execution_count": 38,
      "outputs": [
        {
          "output_type": "execute_result",
          "data": {
            "text/plain": [
              "5"
            ]
          },
          "metadata": {
            "tags": []
          },
          "execution_count": 38
        }
      ]
    },
    {
      "cell_type": "code",
      "metadata": {
        "colab": {
          "base_uri": "https://localhost:8080/"
        },
        "id": "-KAL0MNWUpt7",
        "outputId": "f77d8dd3-15c5-40b2-8f8f-2c3a4a3cac82"
      },
      "source": [
        "s.pop()\r\n",
        "s"
      ],
      "execution_count": 39,
      "outputs": [
        {
          "output_type": "execute_result",
          "data": {
            "text/plain": [
              "<__main__.Stack at 0x7f0281ca7748>"
            ]
          },
          "metadata": {
            "tags": []
          },
          "execution_count": 39
        }
      ]
    },
    {
      "cell_type": "code",
      "metadata": {
        "colab": {
          "base_uri": "https://localhost:8080/"
        },
        "id": "Hl50oYmpUtJB",
        "outputId": "3aceaff1-f2e9-4d3e-a36e-7d6cc8058506"
      },
      "source": [
        "s.is_empty()"
      ],
      "execution_count": 40,
      "outputs": [
        {
          "output_type": "execute_result",
          "data": {
            "text/plain": [
              "True"
            ]
          },
          "metadata": {
            "tags": []
          },
          "execution_count": 40
        }
      ]
    },
    {
      "cell_type": "code",
      "metadata": {
        "id": "U4zVSLm3U2U0"
      },
      "source": [
        "s.push(67)\r\n",
        "s.push(68)\r\n",
        "s.push(69)\r\n",
        "s.push(60)\r\n",
        "s.push(6)"
      ],
      "execution_count": 41,
      "outputs": []
    }
  ]
}