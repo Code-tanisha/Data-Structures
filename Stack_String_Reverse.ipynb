{
  "nbformat": 4,
  "nbformat_minor": 0,
  "metadata": {
    "colab": {
      "name": "Stack String Reverse",
      "provenance": [],
      "authorship_tag": "ABX9TyNs8mTwHYjpErRdCFc0rhLz",
      "include_colab_link": true
    },
    "kernelspec": {
      "name": "python3",
      "display_name": "Python 3"
    }
  },
  "cells": [
    {
      "cell_type": "markdown",
      "metadata": {
        "id": "view-in-github",
        "colab_type": "text"
      },
      "source": [
        "<a href=\"https://colab.research.google.com/github/Code-tanisha/Data-Structures/blob/main/Stack_String_Reverse.ipynb\" target=\"_parent\"><img src=\"https://colab.research.google.com/assets/colab-badge.svg\" alt=\"Open In Colab\"/></a>"
      ]
    },
    {
      "cell_type": "markdown",
      "metadata": {
        "id": "r4_2XdQnEYjD"
      },
      "source": [
        "**  Write a function in python that can reverse a string using stack data structure. Use Stack class from the tutorial.\r\n",
        "reverse_string(\"We will conquere COVID-19\") should return \"91-DIVOC ereuqnoc lliw eW\"  ** "
      ]
    },
    {
      "cell_type": "code",
      "metadata": {
        "id": "qaM7Ar7GODpY"
      },
      "source": [
        "from collections import deque"
      ],
      "execution_count": 12,
      "outputs": []
    },
    {
      "cell_type": "code",
      "metadata": {
        "colab": {
          "base_uri": "https://localhost:8080/"
        },
        "id": "86Gs7wLuseBT",
        "outputId": "1a9b351f-d644-473e-8fe9-c3bc1450b15e"
      },
      "source": [
        "class Stack:\r\n",
        "    def __init__(self):\r\n",
        "        self.container = deque()\r\n",
        "\r\n",
        "    def push(self, val):\r\n",
        "        self.container.append(val)\r\n",
        "\r\n",
        "    def pop(self):\r\n",
        "        return self.container.pop()\r\n",
        "\r\n",
        "    def size(self):\r\n",
        "        return len(self.container)\r\n",
        "\r\n",
        "def reverse_string(s):\r\n",
        "    stack = Stack()\r\n",
        "\r\n",
        "    for ch in s:\r\n",
        "        stack.push(ch)\r\n",
        "\r\n",
        "    rstr = ''\r\n",
        "    while stack.size()!=0:\r\n",
        "        rstr += stack.pop()\r\n",
        "\r\n",
        "    return rstr\r\n",
        "\r\n",
        "\r\n",
        "if __name__ == '__main__':\r\n",
        "    print(reverse_string(\"We will conquere COVI-19\"))\r\n",
        "    print(reverse_string(\"I am the king\"))"
      ],
      "execution_count": 17,
      "outputs": [
        {
          "output_type": "stream",
          "text": [
            "91-IVOC ereuqnoc lliw eW\n",
            "gnik eht ma I\n"
          ],
          "name": "stdout"
        }
      ]
    }
  ]
}