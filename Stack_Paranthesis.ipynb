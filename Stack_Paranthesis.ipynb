{
  "nbformat": 4,
  "nbformat_minor": 0,
  "metadata": {
    "colab": {
      "name": "Stack Paranthesis.ipynb",
      "provenance": [],
      "authorship_tag": "ABX9TyP5rk15gYn1IZmaZvBMu08N",
      "include_colab_link": true
    },
    "kernelspec": {
      "name": "python3",
      "display_name": "Python 3"
    }
  },
  "cells": [
    {
      "cell_type": "markdown",
      "metadata": {
        "id": "view-in-github",
        "colab_type": "text"
      },
      "source": [
        "<a href=\"https://colab.research.google.com/github/Code-tanisha/Data-Structures/blob/main/Stack_Paranthesis.ipynb\" target=\"_parent\"><img src=\"https://colab.research.google.com/assets/colab-badge.svg\" alt=\"Open In Colab\"/></a>"
      ]
    },
    {
      "cell_type": "markdown",
      "metadata": {
        "id": "H-zYEIn3Bhj_"
      },
      "source": [
        "Write a function in python that checks if paranthesis in the string are balanced or not. Possible parantheses are \"{}',\"()\" or \"[]\". Use Stack class from the tutorial.\r\n",
        "is_balanced(\"({a+b})\")     --> True\r\n",
        "is_balanced(\"))((a+b}{\")   --> False\r\n",
        "is_balanced(\"((a+b))\")     --> True\r\n",
        "is_balanced(\"))\")          --> False\r\n",
        "is_balanced(\"[a+b]*(x+2y)*{gg+kk}\") --> True"
      ]
    },
    {
      "cell_type": "code",
      "metadata": {
        "id": "u3NMk_e5Bjz9"
      },
      "source": [
        "from collections import deque"
      ],
      "execution_count": 34,
      "outputs": []
    },
    {
      "cell_type": "code",
      "metadata": {
        "colab": {
          "base_uri": "https://localhost:8080/"
        },
        "id": "QHqzZ-R4Y7ju",
        "outputId": "19b285db-df06-425a-eee8-e46535e86d79"
      },
      "source": [
        "class Stack:\r\n",
        "  def __init__(self):\r\n",
        "    self.container = deque()\r\n",
        "  def push(self, val):\r\n",
        "\r\n",
        "    self.container.append(val)\r\n",
        "  def pop(self):\r\n",
        "    return(self.container.pop())\r\n",
        "\r\n",
        "  def size(self):\r\n",
        "    return(len(self.container))\r\n",
        "\r\n",
        "  def isempty(self):\r\n",
        "    return len(self.container) == 0\r\n",
        "\r\n",
        "def is_match(ch1, ch2):\r\n",
        "    match_dict = {\r\n",
        "        ')': '(',\r\n",
        "        ']': '[',\r\n",
        "        '}': '{'\r\n",
        "    }\r\n",
        "    return match_dict[ch1] == ch2\r\n",
        "\r\n",
        "\r\n",
        "def is_balanced(s):\r\n",
        "    stack = Stack()\r\n",
        "    for ch in s:\r\n",
        "        if ch=='(' or ch=='{' or ch == '[':\r\n",
        "            stack.push(ch)\r\n",
        "        if ch==')' or ch=='}' or ch == ']':\r\n",
        "            if stack.size()==0:\r\n",
        "                return False\r\n",
        "            if not is_match(ch,stack.pop()):\r\n",
        "                return False\r\n",
        "\r\n",
        "    return stack.size()==0\r\n",
        "\r\n",
        "\r\n",
        "if __name__ == '__main__':\r\n",
        "    print(is_balanced(\"({a+b})\"))\r\n",
        "    print(is_balanced(\"))((a+b}{\"))\r\n",
        "    print(is_balanced(\"((a+b))\"))\r\n",
        "    print(is_balanced(\"((a+g))\"))\r\n",
        "    print(is_balanced(\"))\"))\r\n",
        "    print(is_balanced(\"[a+b]*(x+2y)*{gg+kk}\"))\r\n"
      ],
      "execution_count": 36,
      "outputs": [
        {
          "output_type": "stream",
          "text": [
            "True\n",
            "False\n",
            "True\n",
            "True\n",
            "False\n",
            "True\n"
          ],
          "name": "stdout"
        }
      ]
    },
    {
      "cell_type": "code",
      "metadata": {
        "id": "ArPwWmpWW_xB"
      },
      "source": [
        ""
      ],
      "execution_count": null,
      "outputs": []
    }
  ]
}